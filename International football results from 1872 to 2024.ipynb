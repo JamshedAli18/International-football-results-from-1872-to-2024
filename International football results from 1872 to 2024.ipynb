{
 "cells": [
  {
   "cell_type": "code",
   "execution_count": 1,
   "id": "612c51ac-9847-4cb9-9018-5dc257ec80a8",
   "metadata": {},
   "outputs": [],
   "source": [
    "import pandas as pd\n",
    "import seaborn as sns\n",
    "import matplotlib.pyplot as plt"
   ]
  },
  {
   "cell_type": "code",
   "execution_count": 2,
   "id": "f31f635b-f4e2-444f-889a-537d76d58af2",
   "metadata": {},
   "outputs": [
    {
     "data": {
      "text/html": [
       "<div>\n",
       "<style scoped>\n",
       "    .dataframe tbody tr th:only-of-type {\n",
       "        vertical-align: middle;\n",
       "    }\n",
       "\n",
       "    .dataframe tbody tr th {\n",
       "        vertical-align: top;\n",
       "    }\n",
       "\n",
       "    .dataframe thead th {\n",
       "        text-align: right;\n",
       "    }\n",
       "</style>\n",
       "<table border=\"1\" class=\"dataframe\">\n",
       "  <thead>\n",
       "    <tr style=\"text-align: right;\">\n",
       "      <th></th>\n",
       "      <th>date</th>\n",
       "      <th>home_team</th>\n",
       "      <th>away_team</th>\n",
       "      <th>home_score</th>\n",
       "      <th>away_score</th>\n",
       "      <th>tournament</th>\n",
       "      <th>city</th>\n",
       "      <th>country</th>\n",
       "      <th>neutral</th>\n",
       "    </tr>\n",
       "  </thead>\n",
       "  <tbody>\n",
       "    <tr>\n",
       "      <th>0</th>\n",
       "      <td>1872-11-30</td>\n",
       "      <td>Scotland</td>\n",
       "      <td>England</td>\n",
       "      <td>0.0</td>\n",
       "      <td>0.0</td>\n",
       "      <td>Friendly</td>\n",
       "      <td>Glasgow</td>\n",
       "      <td>Scotland</td>\n",
       "      <td>False</td>\n",
       "    </tr>\n",
       "    <tr>\n",
       "      <th>1</th>\n",
       "      <td>1873-03-08</td>\n",
       "      <td>England</td>\n",
       "      <td>Scotland</td>\n",
       "      <td>4.0</td>\n",
       "      <td>2.0</td>\n",
       "      <td>Friendly</td>\n",
       "      <td>London</td>\n",
       "      <td>England</td>\n",
       "      <td>False</td>\n",
       "    </tr>\n",
       "    <tr>\n",
       "      <th>2</th>\n",
       "      <td>1874-03-07</td>\n",
       "      <td>Scotland</td>\n",
       "      <td>England</td>\n",
       "      <td>2.0</td>\n",
       "      <td>1.0</td>\n",
       "      <td>Friendly</td>\n",
       "      <td>Glasgow</td>\n",
       "      <td>Scotland</td>\n",
       "      <td>False</td>\n",
       "    </tr>\n",
       "    <tr>\n",
       "      <th>3</th>\n",
       "      <td>1875-03-06</td>\n",
       "      <td>England</td>\n",
       "      <td>Scotland</td>\n",
       "      <td>2.0</td>\n",
       "      <td>2.0</td>\n",
       "      <td>Friendly</td>\n",
       "      <td>London</td>\n",
       "      <td>England</td>\n",
       "      <td>False</td>\n",
       "    </tr>\n",
       "    <tr>\n",
       "      <th>4</th>\n",
       "      <td>1876-03-04</td>\n",
       "      <td>Scotland</td>\n",
       "      <td>England</td>\n",
       "      <td>3.0</td>\n",
       "      <td>0.0</td>\n",
       "      <td>Friendly</td>\n",
       "      <td>Glasgow</td>\n",
       "      <td>Scotland</td>\n",
       "      <td>False</td>\n",
       "    </tr>\n",
       "    <tr>\n",
       "      <th>...</th>\n",
       "      <td>...</td>\n",
       "      <td>...</td>\n",
       "      <td>...</td>\n",
       "      <td>...</td>\n",
       "      <td>...</td>\n",
       "      <td>...</td>\n",
       "      <td>...</td>\n",
       "      <td>...</td>\n",
       "      <td>...</td>\n",
       "    </tr>\n",
       "    <tr>\n",
       "      <th>47376</th>\n",
       "      <td>7/10/2024</td>\n",
       "      <td>NaN</td>\n",
       "      <td>NaN</td>\n",
       "      <td>NaN</td>\n",
       "      <td>NaN</td>\n",
       "      <td>UEFA Euro</td>\n",
       "      <td>Dortmund</td>\n",
       "      <td>Germany</td>\n",
       "      <td>True</td>\n",
       "    </tr>\n",
       "    <tr>\n",
       "      <th>47377</th>\n",
       "      <td>7/10/2024</td>\n",
       "      <td>NaN</td>\n",
       "      <td>NaN</td>\n",
       "      <td>NaN</td>\n",
       "      <td>NaN</td>\n",
       "      <td>Copa América</td>\n",
       "      <td>Charlotte</td>\n",
       "      <td>United States</td>\n",
       "      <td>True</td>\n",
       "    </tr>\n",
       "    <tr>\n",
       "      <th>47378</th>\n",
       "      <td>7/13/2024</td>\n",
       "      <td>NaN</td>\n",
       "      <td>NaN</td>\n",
       "      <td>NaN</td>\n",
       "      <td>NaN</td>\n",
       "      <td>Copa América</td>\n",
       "      <td>Charlotte</td>\n",
       "      <td>United States</td>\n",
       "      <td>True</td>\n",
       "    </tr>\n",
       "    <tr>\n",
       "      <th>47379</th>\n",
       "      <td>7/14/2024</td>\n",
       "      <td>NaN</td>\n",
       "      <td>NaN</td>\n",
       "      <td>NaN</td>\n",
       "      <td>NaN</td>\n",
       "      <td>UEFA Euro</td>\n",
       "      <td>Berlin</td>\n",
       "      <td>Germany</td>\n",
       "      <td>True</td>\n",
       "    </tr>\n",
       "    <tr>\n",
       "      <th>47380</th>\n",
       "      <td>7/14/2024</td>\n",
       "      <td>NaN</td>\n",
       "      <td>NaN</td>\n",
       "      <td>NaN</td>\n",
       "      <td>NaN</td>\n",
       "      <td>Copa América</td>\n",
       "      <td>Miami Gardens</td>\n",
       "      <td>United States</td>\n",
       "      <td>True</td>\n",
       "    </tr>\n",
       "  </tbody>\n",
       "</table>\n",
       "<p>47381 rows × 9 columns</p>\n",
       "</div>"
      ],
      "text/plain": [
       "             date home_team away_team  home_score  away_score    tournament  \\\n",
       "0      1872-11-30  Scotland   England         0.0         0.0      Friendly   \n",
       "1      1873-03-08   England  Scotland         4.0         2.0      Friendly   \n",
       "2      1874-03-07  Scotland   England         2.0         1.0      Friendly   \n",
       "3      1875-03-06   England  Scotland         2.0         2.0      Friendly   \n",
       "4      1876-03-04  Scotland   England         3.0         0.0      Friendly   \n",
       "...           ...       ...       ...         ...         ...           ...   \n",
       "47376   7/10/2024       NaN       NaN         NaN         NaN     UEFA Euro   \n",
       "47377   7/10/2024       NaN       NaN         NaN         NaN  Copa América   \n",
       "47378   7/13/2024       NaN       NaN         NaN         NaN  Copa América   \n",
       "47379   7/14/2024       NaN       NaN         NaN         NaN     UEFA Euro   \n",
       "47380   7/14/2024       NaN       NaN         NaN         NaN  Copa América   \n",
       "\n",
       "                city        country  neutral  \n",
       "0            Glasgow       Scotland    False  \n",
       "1             London        England    False  \n",
       "2            Glasgow       Scotland    False  \n",
       "3             London        England    False  \n",
       "4            Glasgow       Scotland    False  \n",
       "...              ...            ...      ...  \n",
       "47376       Dortmund        Germany     True  \n",
       "47377      Charlotte  United States     True  \n",
       "47378      Charlotte  United States     True  \n",
       "47379         Berlin        Germany     True  \n",
       "47380  Miami Gardens  United States     True  \n",
       "\n",
       "[47381 rows x 9 columns]"
      ]
     },
     "execution_count": 2,
     "metadata": {},
     "output_type": "execute_result"
    }
   ],
   "source": [
    "df = pd.read_csv('results.csv')\n",
    "df"
   ]
  },
  {
   "cell_type": "code",
   "execution_count": 3,
   "id": "6a21b904-b3bf-4683-83a1-148990aa1574",
   "metadata": {},
   "outputs": [
    {
     "name": "stdout",
     "output_type": "stream",
     "text": [
      "<class 'pandas.core.frame.DataFrame'>\n",
      "RangeIndex: 47381 entries, 0 to 47380\n",
      "Data columns (total 9 columns):\n",
      " #   Column      Non-Null Count  Dtype  \n",
      "---  ------      --------------  -----  \n",
      " 0   date        47381 non-null  object \n",
      " 1   home_team   47356 non-null  object \n",
      " 2   away_team   47356 non-null  object \n",
      " 3   home_score  47324 non-null  float64\n",
      " 4   away_score  47324 non-null  float64\n",
      " 5   tournament  47381 non-null  object \n",
      " 6   city        47381 non-null  object \n",
      " 7   country     47381 non-null  object \n",
      " 8   neutral     47381 non-null  bool   \n",
      "dtypes: bool(1), float64(2), object(6)\n",
      "memory usage: 2.9+ MB\n"
     ]
    }
   ],
   "source": [
    "df.info()"
   ]
  },
  {
   "cell_type": "code",
   "execution_count": 26,
   "id": "cabcfa58-63c4-4c75-9d3c-056568586aac",
   "metadata": {},
   "outputs": [
    {
     "data": {
      "text/plain": [
       "date          0\n",
       "home_team     0\n",
       "away_team     0\n",
       "home_score    0\n",
       "away_score    0\n",
       "tournament    0\n",
       "city          0\n",
       "country       0\n",
       "neutral       0\n",
       "dtype: int64"
      ]
     },
     "execution_count": 26,
     "metadata": {},
     "output_type": "execute_result"
    }
   ],
   "source": [
    "df.isnull().sum()"
   ]
  },
  {
   "cell_type": "code",
   "execution_count": 27,
   "id": "403ad318-1024-467d-aafd-7111e33afb7c",
   "metadata": {},
   "outputs": [
    {
     "data": {
      "text/html": [
       "<div>\n",
       "<style scoped>\n",
       "    .dataframe tbody tr th:only-of-type {\n",
       "        vertical-align: middle;\n",
       "    }\n",
       "\n",
       "    .dataframe tbody tr th {\n",
       "        vertical-align: top;\n",
       "    }\n",
       "\n",
       "    .dataframe thead th {\n",
       "        text-align: right;\n",
       "    }\n",
       "</style>\n",
       "<table border=\"1\" class=\"dataframe\">\n",
       "  <thead>\n",
       "    <tr style=\"text-align: right;\">\n",
       "      <th></th>\n",
       "      <th>date</th>\n",
       "      <th>home_team</th>\n",
       "      <th>away_team</th>\n",
       "      <th>home_score</th>\n",
       "      <th>away_score</th>\n",
       "      <th>tournament</th>\n",
       "      <th>city</th>\n",
       "      <th>country</th>\n",
       "      <th>neutral</th>\n",
       "    </tr>\n",
       "  </thead>\n",
       "  <tbody>\n",
       "    <tr>\n",
       "      <th>0</th>\n",
       "      <td>1872-11-30</td>\n",
       "      <td>Scotland</td>\n",
       "      <td>England</td>\n",
       "      <td>0.0</td>\n",
       "      <td>0.0</td>\n",
       "      <td>Friendly</td>\n",
       "      <td>Glasgow</td>\n",
       "      <td>Scotland</td>\n",
       "      <td>False</td>\n",
       "    </tr>\n",
       "    <tr>\n",
       "      <th>1</th>\n",
       "      <td>1873-03-08</td>\n",
       "      <td>England</td>\n",
       "      <td>Scotland</td>\n",
       "      <td>4.0</td>\n",
       "      <td>2.0</td>\n",
       "      <td>Friendly</td>\n",
       "      <td>London</td>\n",
       "      <td>England</td>\n",
       "      <td>False</td>\n",
       "    </tr>\n",
       "    <tr>\n",
       "      <th>2</th>\n",
       "      <td>1874-03-07</td>\n",
       "      <td>Scotland</td>\n",
       "      <td>England</td>\n",
       "      <td>2.0</td>\n",
       "      <td>1.0</td>\n",
       "      <td>Friendly</td>\n",
       "      <td>Glasgow</td>\n",
       "      <td>Scotland</td>\n",
       "      <td>False</td>\n",
       "    </tr>\n",
       "    <tr>\n",
       "      <th>3</th>\n",
       "      <td>1875-03-06</td>\n",
       "      <td>England</td>\n",
       "      <td>Scotland</td>\n",
       "      <td>2.0</td>\n",
       "      <td>2.0</td>\n",
       "      <td>Friendly</td>\n",
       "      <td>London</td>\n",
       "      <td>England</td>\n",
       "      <td>False</td>\n",
       "    </tr>\n",
       "    <tr>\n",
       "      <th>4</th>\n",
       "      <td>1876-03-04</td>\n",
       "      <td>Scotland</td>\n",
       "      <td>England</td>\n",
       "      <td>3.0</td>\n",
       "      <td>0.0</td>\n",
       "      <td>Friendly</td>\n",
       "      <td>Glasgow</td>\n",
       "      <td>Scotland</td>\n",
       "      <td>False</td>\n",
       "    </tr>\n",
       "    <tr>\n",
       "      <th>...</th>\n",
       "      <td>...</td>\n",
       "      <td>...</td>\n",
       "      <td>...</td>\n",
       "      <td>...</td>\n",
       "      <td>...</td>\n",
       "      <td>...</td>\n",
       "      <td>...</td>\n",
       "      <td>...</td>\n",
       "      <td>...</td>\n",
       "    </tr>\n",
       "    <tr>\n",
       "      <th>47319</th>\n",
       "      <td>6/22/2024</td>\n",
       "      <td>Fiji</td>\n",
       "      <td>Tahiti</td>\n",
       "      <td>1.0</td>\n",
       "      <td>0.0</td>\n",
       "      <td>Oceania Nations Cup</td>\n",
       "      <td>Suva</td>\n",
       "      <td>Fiji</td>\n",
       "      <td>False</td>\n",
       "    </tr>\n",
       "    <tr>\n",
       "      <th>47320</th>\n",
       "      <td>6/22/2024</td>\n",
       "      <td>Ecuador</td>\n",
       "      <td>Venezuela</td>\n",
       "      <td>1.0</td>\n",
       "      <td>2.0</td>\n",
       "      <td>Copa América</td>\n",
       "      <td>Santa Clara</td>\n",
       "      <td>United States</td>\n",
       "      <td>True</td>\n",
       "    </tr>\n",
       "    <tr>\n",
       "      <th>47321</th>\n",
       "      <td>6/22/2024</td>\n",
       "      <td>Mexico</td>\n",
       "      <td>Jamaica</td>\n",
       "      <td>1.0</td>\n",
       "      <td>0.0</td>\n",
       "      <td>Copa América</td>\n",
       "      <td>Houston</td>\n",
       "      <td>United States</td>\n",
       "      <td>True</td>\n",
       "    </tr>\n",
       "    <tr>\n",
       "      <th>47322</th>\n",
       "      <td>6/23/2024</td>\n",
       "      <td>Germany</td>\n",
       "      <td>Switzerland</td>\n",
       "      <td>1.0</td>\n",
       "      <td>1.0</td>\n",
       "      <td>UEFA Euro</td>\n",
       "      <td>Frankfurt</td>\n",
       "      <td>Germany</td>\n",
       "      <td>False</td>\n",
       "    </tr>\n",
       "    <tr>\n",
       "      <th>47323</th>\n",
       "      <td>6/23/2024</td>\n",
       "      <td>Scotland</td>\n",
       "      <td>Hungary</td>\n",
       "      <td>0.0</td>\n",
       "      <td>1.0</td>\n",
       "      <td>UEFA Euro</td>\n",
       "      <td>Stuttgart</td>\n",
       "      <td>Germany</td>\n",
       "      <td>True</td>\n",
       "    </tr>\n",
       "  </tbody>\n",
       "</table>\n",
       "<p>47324 rows × 9 columns</p>\n",
       "</div>"
      ],
      "text/plain": [
       "             date home_team    away_team  home_score  away_score  \\\n",
       "0      1872-11-30  Scotland      England         0.0         0.0   \n",
       "1      1873-03-08   England     Scotland         4.0         2.0   \n",
       "2      1874-03-07  Scotland      England         2.0         1.0   \n",
       "3      1875-03-06   England     Scotland         2.0         2.0   \n",
       "4      1876-03-04  Scotland      England         3.0         0.0   \n",
       "...           ...       ...          ...         ...         ...   \n",
       "47319   6/22/2024      Fiji       Tahiti         1.0         0.0   \n",
       "47320   6/22/2024   Ecuador    Venezuela         1.0         2.0   \n",
       "47321   6/22/2024    Mexico      Jamaica         1.0         0.0   \n",
       "47322   6/23/2024   Germany  Switzerland         1.0         1.0   \n",
       "47323   6/23/2024  Scotland      Hungary         0.0         1.0   \n",
       "\n",
       "                tournament         city        country  neutral  \n",
       "0                 Friendly      Glasgow       Scotland    False  \n",
       "1                 Friendly       London        England    False  \n",
       "2                 Friendly      Glasgow       Scotland    False  \n",
       "3                 Friendly       London        England    False  \n",
       "4                 Friendly      Glasgow       Scotland    False  \n",
       "...                    ...          ...            ...      ...  \n",
       "47319  Oceania Nations Cup         Suva           Fiji    False  \n",
       "47320         Copa América  Santa Clara  United States     True  \n",
       "47321         Copa América      Houston  United States     True  \n",
       "47322            UEFA Euro    Frankfurt        Germany    False  \n",
       "47323            UEFA Euro    Stuttgart        Germany     True  \n",
       "\n",
       "[47324 rows x 9 columns]"
      ]
     },
     "execution_count": 27,
     "metadata": {},
     "output_type": "execute_result"
    }
   ],
   "source": [
    "df"
   ]
  },
  {
   "cell_type": "markdown",
   "id": "9d9163f7-03d9-4afd-8c37-601f7226dceb",
   "metadata": {},
   "source": [
    "# What is the average score for home teams and away teams?"
   ]
  },
  {
   "cell_type": "code",
   "execution_count": 39,
   "id": "97274ba8-7c2d-4b66-a2f8-8d6396688e72",
   "metadata": {},
   "outputs": [
    {
     "data": {
      "text/plain": [
       "home_score    1.760439\n",
       "dtype: float64"
      ]
     },
     "execution_count": 39,
     "metadata": {},
     "output_type": "execute_result"
    }
   ],
   "source": [
    "df[['home_score']].mean()"
   ]
  },
  {
   "cell_type": "code",
   "execution_count": 40,
   "id": "e5221fb8-7da6-4b99-9be2-96041c2b1e5a",
   "metadata": {},
   "outputs": [
    {
     "data": {
      "text/plain": [
       "away_score    1.183353\n",
       "dtype: float64"
      ]
     },
     "execution_count": 40,
     "metadata": {},
     "output_type": "execute_result"
    }
   ],
   "source": [
    "df[['away_score']].mean()"
   ]
  },
  {
   "cell_type": "markdown",
   "id": "fd2d5b5b-e82f-4966-b12b-4aef432141ae",
   "metadata": {},
   "source": [
    "# Which country hosted the most matches?"
   ]
  },
  {
   "cell_type": "code",
   "execution_count": 52,
   "id": "59d3388c-7662-4a54-a77b-9efd3845915c",
   "metadata": {},
   "outputs": [
    {
     "data": {
      "text/plain": [
       "city\n",
       "Kuala Lumpur    725\n",
       "Name: home_team, dtype: int64"
      ]
     },
     "execution_count": 52,
     "metadata": {},
     "output_type": "execute_result"
    }
   ],
   "source": [
    "df.groupby('city')['home_team'].count().sort_values(ascending=False).head(1)"
   ]
  },
  {
   "cell_type": "code",
   "execution_count": null,
   "id": "01709042-c5cb-4b27-8694-2f9505234d5c",
   "metadata": {},
   "outputs": [],
   "source": []
  },
  {
   "cell_type": "markdown",
   "id": "fc0f81ec-6d88-4a99-89fb-36b152e14983",
   "metadata": {},
   "source": [
    "# Top 20 countries who hosted most mactches"
   ]
  },
  {
   "cell_type": "code",
   "execution_count": 88,
   "id": "a75064c5-89c3-417c-a47a-5510e378d73d",
   "metadata": {},
   "outputs": [],
   "source": [
    "host_counts= df.groupby('city')['home_team'].count().sort_values(ascending=False).head(20)"
   ]
  },
  {
   "cell_type": "code",
   "execution_count": 85,
   "id": "877333d4-ee29-439a-8f58-67511407fd78",
   "metadata": {},
   "outputs": [
    {
     "data": {
      "text/plain": [
       "<Axes: ylabel='city'>"
      ]
     },
     "execution_count": 85,
     "metadata": {},
     "output_type": "execute_result"
    },
    {
     "data": {
      "image/png": "[encoded data removed]",
      "text/plain": [
       "<Figure size 1200x800 with 1 Axes>"
      ]
     },
     "metadata": {},
     "output_type": "display_data"
    }
   ],
   "source": [
    "plt.figure(figsize=(12, 8))\n",
    "sns.barplot(x=host_counts.values, y=host_counts.index, palette=\"viridis\")"
   ]
  },
  {
   "cell_type": "markdown",
   "id": "aac57957-f307-4b8e-abed-7ce13eba7d2f",
   "metadata": {},
   "source": [
    "# What are the most common results: home wins, away wins, or draws?"
   ]
  },
  {
   "cell_type": "code",
   "execution_count": 72,
   "id": "05932bd6-88e2-4658-9598-efb02aaae42c",
   "metadata": {},
   "outputs": [
    {
     "data": {
      "text/plain": [
       "10759"
      ]
     },
     "execution_count": 72,
     "metadata": {},
     "output_type": "execute_result"
    }
   ],
   "source": [
    "draw = df[(df['away_score']==df['home_score'])]['date'].count()\n",
    "draw"
   ]
  },
  {
   "cell_type": "code",
   "execution_count": 75,
   "id": "418b2ea6-b131-4fff-a8f4-6db2007d89b4",
   "metadata": {},
   "outputs": [
    {
     "data": {
      "text/plain": [
       "23206"
      ]
     },
     "execution_count": 75,
     "metadata": {},
     "output_type": "execute_result"
    }
   ],
   "source": [
    "homeWins = df[(df['home_score']>df['away_score'])]['date'].count()\n",
    "homeWins"
   ]
  },
  {
   "cell_type": "code",
   "execution_count": 79,
   "id": "13ca823a-9d48-4c13-b1ed-434024f7308c",
   "metadata": {},
   "outputs": [
    {
     "data": {
      "text/plain": [
       "13359"
      ]
     },
     "execution_count": 79,
     "metadata": {},
     "output_type": "execute_result"
    }
   ],
   "source": [
    "awayWins = df[(df['away_score']>df['home_score'])]['date'].count()\n",
    "awayWins"
   ]
  },
  {
   "cell_type": "code",
   "execution_count": 83,
   "id": "d3c9d087-de5e-46b7-b3c8-7878ea6e3d0e",
   "metadata": {},
   "outputs": [
    {
     "name": "stdout",
     "output_type": "stream",
     "text": [
      "Common results are 23206 home Wins\n"
     ]
    }
   ],
   "source": [
    "print(f\"Common results are {max(draw,homeWins,awayWins)} home Wins\")"
   ]
  },
  {
   "cell_type": "markdown",
   "id": "8bf6513f-e5bc-497c-88c3-dc3cd2306a6a",
   "metadata": {},
   "source": [
    "#  Which Home team scored the most goals overall?"
   ]
  },
  {
   "cell_type": "code",
   "execution_count": 97,
   "id": "39202ca0-b4d3-4d61-8bcc-6343f19f6df9",
   "metadata": {},
   "outputs": [
    {
     "data": {
      "text/plain": [
       "home_team\n",
       "Brazil    1482.0\n",
       "Name: home_score, dtype: float64"
      ]
     },
     "execution_count": 97,
     "metadata": {},
     "output_type": "execute_result"
    }
   ],
   "source": [
    "hometeam = df.groupby('home_team')['home_score'].sum().sort_values(ascending=False)\n",
    "hometeam.head(1)"
   ]
  },
  {
   "cell_type": "code",
   "execution_count": 98,
   "id": "de6e6242-03fe-4e9a-ae2c-032089f88607",
   "metadata": {},
   "outputs": [],
   "source": [
    "top10 = hometeam.head(10)"
   ]
  },
  {
   "cell_type": "code",
   "execution_count": 103,
   "id": "6193b40c-2320-4181-a834-f39e63b985bb",
   "metadata": {},
   "outputs": [
    {
     "data": {
      "text/plain": [
       "<Axes: ylabel='home_team'>"
      ]
     },
     "execution_count": 103,
     "metadata": {},
     "output_type": "execute_result"
    },
    {
     "data": {
      "image/png": "[encoded data removed]",
      "text/plain": [
       "<Figure size 640x480 with 1 Axes>"
      ]
     },
     "metadata": {},
     "output_type": "display_data"
    }
   ],
   "source": [
    "sns.barplot(x=top10.values,y=top10.index,palette=\"viridis\")"
   ]
  },
  {
   "cell_type": "markdown",
   "id": "f9255a50-7610-4141-8916-b3cf6979aa11",
   "metadata": {},
   "source": [
    "#  Which Away team scored the most goals overall?"
   ]
  },
  {
   "cell_type": "code",
   "execution_count": 106,
   "id": "59eabf0a-5d50-4aba-8ab2-ed44669d8bdc",
   "metadata": {},
   "outputs": [
    {
     "data": {
      "text/plain": [
       "away_team\n",
       "England    1103.0\n",
       "Name: away_score, dtype: float64"
      ]
     },
     "execution_count": 106,
     "metadata": {},
     "output_type": "execute_result"
    }
   ],
   "source": [
    "awayteam = df.groupby('away_team')['away_score'].sum().sort_values(ascending=False)\n",
    "awayteam.head(1)"
   ]
  },
  {
   "cell_type": "code",
   "execution_count": 108,
   "id": "e5c402b1-e929-477c-8a6a-6913548ddb44",
   "metadata": {},
   "outputs": [
    {
     "data": {
      "text/plain": [
       "<Axes: ylabel='away_team'>"
      ]
     },
     "execution_count": 108,
     "metadata": {},
     "output_type": "execute_result"
    },
    {
     "data": {
      "image/png": "[encoded data removed]",
      "text/plain": [
       "<Figure size 640x480 with 1 Axes>"
      ]
     },
     "metadata": {},
     "output_type": "display_data"
    }
   ],
   "source": [
    "sns.barplot(x=awayteam.head(10).values,y=awayteam.head(10).index,palette=\"viridis\")"
   ]
  },
  {
   "cell_type": "code",
   "execution_count": 109,
   "id": "bbbf9ec7-877b-4832-a656-957f09074007",
   "metadata": {},
   "outputs": [
    {
     "data": {
      "text/plain": [
       "away_team\n",
       "England               2206.0\n",
       "Germany               1836.0\n",
       "Sweden                1814.0\n",
       "Hungary               1732.0\n",
       "Uruguay               1642.0\n",
       "                       ...  \n",
       "East Timor               0.0\n",
       "Manchukuo                0.0\n",
       "Parishes of Jersey       0.0\n",
       "Cilento                  0.0\n",
       "Barawa                   0.0\n",
       "Name: away_score, Length: 321, dtype: float64"
      ]
     },
     "execution_count": 109,
     "metadata": {},
     "output_type": "execute_result"
    }
   ],
   "source": []
  },
  {
   "cell_type": "markdown",
   "id": "36552524-9659-41f7-b490-685b27c49b35",
   "metadata": {},
   "source": [
    "#  Which  team scored the most goals overall?"
   ]
  },
  {
   "cell_type": "code",
   "execution_count": 127,
   "id": "a785170b-3575-48bd-9ca8-c98dfe8e26b3",
   "metadata": {},
   "outputs": [
    {
     "data": {
      "text/plain": [
       "<Axes: ylabel='away_team'>"
      ]
     },
     "execution_count": 127,
     "metadata": {},
     "output_type": "execute_result"
    },
    {
     "data": {
      "image/png": "[encoded data removed]",
      "text/plain": [
       "<Figure size 640x480 with 1 Axes>"
      ]
     },
     "metadata": {},
     "output_type": "display_data"
    }
   ],
   "source": [
    "overall = hometeam+awayteam\n",
    "sns.barplot(x=overall.head(10).values,y=overall.head(10).index,palette=\"RdPu\")"
   ]
  },
  {
   "cell_type": "code",
   "execution_count": null,
   "id": "2a988470-4c14-4c12-9ad6-c7ca9f6a25c2",
   "metadata": {},
   "outputs": [],
   "source": []
  },
  {
   "cell_type": "markdown",
   "id": "e72513eb-62f5-4544-b377-e457f640cc04",
   "metadata": {},
   "source": [
    "# How many matches were played in neutral venues compared to non-neutral venues?"
   ]
  },
  {
   "cell_type": "code",
   "execution_count": 128,
   "id": "2753d480-ba02-4258-96ac-50883ef99ca0",
   "metadata": {},
   "outputs": [
    {
     "data": {
      "text/html": [
       "<div>\n",
       "<style scoped>\n",
       "    .dataframe tbody tr th:only-of-type {\n",
       "        vertical-align: middle;\n",
       "    }\n",
       "\n",
       "    .dataframe tbody tr th {\n",
       "        vertical-align: top;\n",
       "    }\n",
       "\n",
       "    .dataframe thead th {\n",
       "        text-align: right;\n",
       "    }\n",
       "</style>\n",
       "<table border=\"1\" class=\"dataframe\">\n",
       "  <thead>\n",
       "    <tr style=\"text-align: right;\">\n",
       "      <th></th>\n",
       "      <th>date</th>\n",
       "      <th>home_team</th>\n",
       "      <th>away_team</th>\n",
       "      <th>home_score</th>\n",
       "      <th>away_score</th>\n",
       "      <th>tournament</th>\n",
       "      <th>city</th>\n",
       "      <th>country</th>\n",
       "      <th>neutral</th>\n",
       "      <th>outcome</th>\n",
       "    </tr>\n",
       "  </thead>\n",
       "  <tbody>\n",
       "    <tr>\n",
       "      <th>0</th>\n",
       "      <td>1872-11-30</td>\n",
       "      <td>Scotland</td>\n",
       "      <td>England</td>\n",
       "      <td>0.0</td>\n",
       "      <td>0.0</td>\n",
       "      <td>Friendly</td>\n",
       "      <td>Glasgow</td>\n",
       "      <td>Scotland</td>\n",
       "      <td>False</td>\n",
       "      <td>draw</td>\n",
       "    </tr>\n",
       "    <tr>\n",
       "      <th>1</th>\n",
       "      <td>1873-03-08</td>\n",
       "      <td>England</td>\n",
       "      <td>Scotland</td>\n",
       "      <td>4.0</td>\n",
       "      <td>2.0</td>\n",
       "      <td>Friendly</td>\n",
       "      <td>London</td>\n",
       "      <td>England</td>\n",
       "      <td>False</td>\n",
       "      <td>home_win</td>\n",
       "    </tr>\n",
       "    <tr>\n",
       "      <th>2</th>\n",
       "      <td>1874-03-07</td>\n",
       "      <td>Scotland</td>\n",
       "      <td>England</td>\n",
       "      <td>2.0</td>\n",
       "      <td>1.0</td>\n",
       "      <td>Friendly</td>\n",
       "      <td>Glasgow</td>\n",
       "      <td>Scotland</td>\n",
       "      <td>False</td>\n",
       "      <td>home_win</td>\n",
       "    </tr>\n",
       "    <tr>\n",
       "      <th>3</th>\n",
       "      <td>1875-03-06</td>\n",
       "      <td>England</td>\n",
       "      <td>Scotland</td>\n",
       "      <td>2.0</td>\n",
       "      <td>2.0</td>\n",
       "      <td>Friendly</td>\n",
       "      <td>London</td>\n",
       "      <td>England</td>\n",
       "      <td>False</td>\n",
       "      <td>draw</td>\n",
       "    </tr>\n",
       "    <tr>\n",
       "      <th>4</th>\n",
       "      <td>1876-03-04</td>\n",
       "      <td>Scotland</td>\n",
       "      <td>England</td>\n",
       "      <td>3.0</td>\n",
       "      <td>0.0</td>\n",
       "      <td>Friendly</td>\n",
       "      <td>Glasgow</td>\n",
       "      <td>Scotland</td>\n",
       "      <td>False</td>\n",
       "      <td>home_win</td>\n",
       "    </tr>\n",
       "    <tr>\n",
       "      <th>...</th>\n",
       "      <td>...</td>\n",
       "      <td>...</td>\n",
       "      <td>...</td>\n",
       "      <td>...</td>\n",
       "      <td>...</td>\n",
       "      <td>...</td>\n",
       "      <td>...</td>\n",
       "      <td>...</td>\n",
       "      <td>...</td>\n",
       "      <td>...</td>\n",
       "    </tr>\n",
       "    <tr>\n",
       "      <th>47319</th>\n",
       "      <td>6/22/2024</td>\n",
       "      <td>Fiji</td>\n",
       "      <td>Tahiti</td>\n",
       "      <td>1.0</td>\n",
       "      <td>0.0</td>\n",
       "      <td>Oceania Nations Cup</td>\n",
       "      <td>Suva</td>\n",
       "      <td>Fiji</td>\n",
       "      <td>False</td>\n",
       "      <td>home_win</td>\n",
       "    </tr>\n",
       "    <tr>\n",
       "      <th>47320</th>\n",
       "      <td>6/22/2024</td>\n",
       "      <td>Ecuador</td>\n",
       "      <td>Venezuela</td>\n",
       "      <td>1.0</td>\n",
       "      <td>2.0</td>\n",
       "      <td>Copa América</td>\n",
       "      <td>Santa Clara</td>\n",
       "      <td>United States</td>\n",
       "      <td>True</td>\n",
       "      <td>away_win</td>\n",
       "    </tr>\n",
       "    <tr>\n",
       "      <th>47321</th>\n",
       "      <td>6/22/2024</td>\n",
       "      <td>Mexico</td>\n",
       "      <td>Jamaica</td>\n",
       "      <td>1.0</td>\n",
       "      <td>0.0</td>\n",
       "      <td>Copa América</td>\n",
       "      <td>Houston</td>\n",
       "      <td>United States</td>\n",
       "      <td>True</td>\n",
       "      <td>home_win</td>\n",
       "    </tr>\n",
       "    <tr>\n",
       "      <th>47322</th>\n",
       "      <td>6/23/2024</td>\n",
       "      <td>Germany</td>\n",
       "      <td>Switzerland</td>\n",
       "      <td>1.0</td>\n",
       "      <td>1.0</td>\n",
       "      <td>UEFA Euro</td>\n",
       "      <td>Frankfurt</td>\n",
       "      <td>Germany</td>\n",
       "      <td>False</td>\n",
       "      <td>draw</td>\n",
       "    </tr>\n",
       "    <tr>\n",
       "      <th>47323</th>\n",
       "      <td>6/23/2024</td>\n",
       "      <td>Scotland</td>\n",
       "      <td>Hungary</td>\n",
       "      <td>0.0</td>\n",
       "      <td>1.0</td>\n",
       "      <td>UEFA Euro</td>\n",
       "      <td>Stuttgart</td>\n",
       "      <td>Germany</td>\n",
       "      <td>True</td>\n",
       "      <td>away_win</td>\n",
       "    </tr>\n",
       "  </tbody>\n",
       "</table>\n",
       "<p>47324 rows × 10 columns</p>\n",
       "</div>"
      ],
      "text/plain": [
       "             date home_team    away_team  home_score  away_score  \\\n",
       "0      1872-11-30  Scotland      England         0.0         0.0   \n",
       "1      1873-03-08   England     Scotland         4.0         2.0   \n",
       "2      1874-03-07  Scotland      England         2.0         1.0   \n",
       "3      1875-03-06   England     Scotland         2.0         2.0   \n",
       "4      1876-03-04  Scotland      England         3.0         0.0   \n",
       "...           ...       ...          ...         ...         ...   \n",
       "47319   6/22/2024      Fiji       Tahiti         1.0         0.0   \n",
       "47320   6/22/2024   Ecuador    Venezuela         1.0         2.0   \n",
       "47321   6/22/2024    Mexico      Jamaica         1.0         0.0   \n",
       "47322   6/23/2024   Germany  Switzerland         1.0         1.0   \n",
       "47323   6/23/2024  Scotland      Hungary         0.0         1.0   \n",
       "\n",
       "                tournament         city        country  neutral   outcome  \n",
       "0                 Friendly      Glasgow       Scotland    False      draw  \n",
       "1                 Friendly       London        England    False  home_win  \n",
       "2                 Friendly      Glasgow       Scotland    False  home_win  \n",
       "3                 Friendly       London        England    False      draw  \n",
       "4                 Friendly      Glasgow       Scotland    False  home_win  \n",
       "...                    ...          ...            ...      ...       ...  \n",
       "47319  Oceania Nations Cup         Suva           Fiji    False  home_win  \n",
       "47320         Copa América  Santa Clara  United States     True  away_win  \n",
       "47321         Copa América      Houston  United States     True  home_win  \n",
       "47322            UEFA Euro    Frankfurt        Germany    False      draw  \n",
       "47323            UEFA Euro    Stuttgart        Germany     True  away_win  \n",
       "\n",
       "[47324 rows x 10 columns]"
      ]
     },
     "execution_count": 128,
     "metadata": {},
     "output_type": "execute_result"
    }
   ],
   "source": [
    "df"
   ]
  },
  {
   "cell_type": "code",
   "execution_count": 139,
   "id": "ee8dff57-e754-483a-9e8d-dad04137e442",
   "metadata": {},
   "outputs": [],
   "source": [
    "counts = df['neutral'].value_counts()"
   ]
  },
  {
   "cell_type": "code",
   "execution_count": 143,
   "id": "6c43c688-3666-4972-b565-53c6ca0b0287",
   "metadata": {},
   "outputs": [
    {
     "data": {
      "text/plain": [
       "<Axes: xlabel='neutral'>"
      ]
     },
     "execution_count": 143,
     "metadata": {},
     "output_type": "execute_result"
    },
    {
     "data": {
      "image/png": "[encoded data removed]",
      "text/plain": [
       "<Figure size 640x480 with 1 Axes>"
      ]
     },
     "metadata": {},
     "output_type": "display_data"
    }
   ],
   "source": [
    "sns.barplot(x=counts.index,y=counts.values,palette=\"Greens\")"
   ]
  },
  {
   "cell_type": "markdown",
   "id": "109fe011-5e29-4e55-bb6e-0ba3937f9930",
   "metadata": {},
   "source": [
    "# Which tournament had the most matches?"
   ]
  },
  {
   "cell_type": "code",
   "execution_count": 149,
   "id": "745ec7f4-3054-4bf9-846d-1fb912ced898",
   "metadata": {},
   "outputs": [],
   "source": [
    "tournament = df.groupby('tournament')['home_team'].count().sort_values(ascending=False)"
   ]
  },
  {
   "cell_type": "code",
   "execution_count": 145,
   "id": "7f00165c-46c5-450a-a8d2-bc3a87fa19ca",
   "metadata": {},
   "outputs": [
    {
     "data": {
      "text/plain": [
       "175"
      ]
     },
     "execution_count": 145,
     "metadata": {},
     "output_type": "execute_result"
    }
   ],
   "source": [
    "len(df.groupby('tournament'))"
   ]
  },
  {
   "cell_type": "code",
   "execution_count": 163,
   "id": "019b343c-451f-41ce-a54c-ed16533c02fc",
   "metadata": {},
   "outputs": [
    {
     "data": {
      "text/plain": [
       "<Axes: ylabel='tournament'>"
      ]
     },
     "execution_count": 163,
     "metadata": {},
     "output_type": "execute_result"
    },
    {
     "data": {
      "image/png": "[encoded data removed]",
      "text/plain": [
       "<Figure size 640x480 with 1 Axes>"
      ]
     },
     "metadata": {},
     "output_type": "display_data"
    }
   ],
   "source": [
    "sns.barplot(x=tournament.head(5).values,y=tournament.head(5).index,palette=\"PuBu\")"
   ]
  },
  {
   "cell_type": "code",
   "execution_count": null,
   "id": "3bc18aa0-0107-4ecd-93de-a096688c5634",
   "metadata": {},
   "outputs": [],
   "source": []
  }
 ],
 "metadata": {
  "kernelspec": {
   "display_name": "Python 3 (ipykernel)",
   "language": "python",
   "name": "python3"
  },
  "language_info": {
   "codemirror_mode": {
    "name": "ipython",
    "version": 3
   },
   "file_extension": ".py",
   "mimetype": "text/x-python",
   "name": "python",
   "nbconvert_exporter": "python",
   "pygments_lexer": "ipython3",
   "version": "3.11.7"
  }
 },
 "nbformat": 4,
 "nbformat_minor": 5
}
